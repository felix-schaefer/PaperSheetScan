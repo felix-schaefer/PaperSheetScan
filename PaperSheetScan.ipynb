{
 "cells": [
  {
   "cell_type": "code",
   "execution_count": 1,
   "metadata": {},
   "outputs": [],
   "source": [
    "import cv2\n",
    "import numpy as np\n",
    "import matplotlib.pyplot as plt\n",
    "%matplotlib inline"
   ]
  },
  {
   "cell_type": "code",
   "execution_count": 2,
   "metadata": {},
   "outputs": [],
   "source": [
    "def display(img):\n",
    "    fig = plt.figure(figsize=(12,10))\n",
    "    ax = fig.add_subplot(111)\n",
    "    ax.imshow(img)"
   ]
  },
  {
   "cell_type": "code",
   "execution_count": 3,
   "metadata": {},
   "outputs": [],
   "source": [
    "def display_gray(img):\n",
    "    fig = plt.figure(figsize=(12,10))\n",
    "    ax = fig.add_subplot(111)\n",
    "    ax.imshow(img,cmap=\"gray\")"
   ]
  },
  {
   "cell_type": "code",
   "execution_count": 4,
   "metadata": {},
   "outputs": [],
   "source": [
    "def get_thresh(img):\n",
    "    \n",
    "    kernel5 = np.ones((5,5),np.uint8)\n",
    "    kernel3 = np.ones((3,3),np.uint8)\n",
    "    \n",
    "    # Repeated Closing operation to remove text from the document.\n",
    "    no_content = cv2.morphologyEx(img, cv2.MORPH_CLOSE, kernel5, iterations= 3) \n",
    "    sheet_gray = cv2.cvtColor(no_content, cv2.COLOR_BGR2GRAY)\n",
    "    sheet_gray = cv2.GaussianBlur(sheet_gray,(5,5),0)\n",
    "    \n",
    "    sobelx = cv2.Sobel(sheet_gray,cv2.CV_16S,1,0,ksize=5)\n",
    "    sobely = cv2.Sobel(sheet_gray,cv2.CV_16S,0,1,ksize=5)\n",
    "    abs_sobelx = np.absolute(sobelx)\n",
    "    abs_sobely = np.absolute(sobely)\n",
    "    sobel = cv2.addWeighted(src1=abs_sobelx,alpha=0.5,src2=abs_sobely,beta=0.5,gamma=0)\n",
    "   \n",
    "    _,sobel_thresh = cv2.threshold(sobel,sobel.max()*0.1,255,cv2.THRESH_BINARY) \n",
    "    #sobel_thresh = cv2.erode(sobel_thresh,kernel3,iterations=1)\n",
    "    sobel_thresh = sobel_thresh.astype(np.uint8)\n",
    "\n",
    "    return sobel_thresh"
   ]
  },
  {
   "cell_type": "code",
   "execution_count": 5,
   "metadata": {},
   "outputs": [],
   "source": [
    "def draw_contour(img, contour):\n",
    "\n",
    "    sheet_indicators = img\n",
    "    #sheet_indicators = cv2.merge((img,img,img))\n",
    "    if len(contour) > 0:\n",
    "        cv2.drawContours(sheet_indicators,[contour],-1,(0,255,0),2)\n",
    "    \n",
    "    return sheet_indicators"
   ]
  },
  {
   "cell_type": "code",
   "execution_count": 9,
   "metadata": {},
   "outputs": [],
   "source": [
    "def draw_lines(img):\n",
    "    \n",
    "    # Apply HoughLinesP method to \n",
    "    # to directly obtain line end points\n",
    "    lines = cv2.HoughLinesP(\n",
    "        img, # Input edge image\n",
    "        1, # Distance resolution in pixels\n",
    "        np.pi/180, # Angle resolution in radians\n",
    "        threshold=100, # Min number of votes for valid line\n",
    "        minLineLength=100, # Min allowed length of line\n",
    "        maxLineGap=20 # Max allowed gap between line for joining them\n",
    "        )                \n",
    "\n",
    "    img = cv2.merge((img,img,img))    \n",
    "    img = np.zeros(img.shape, np.uint8)\n",
    "    \n",
    "    # Define the extension length\n",
    "    extension_length = 10\n",
    "    if lines is not None:\n",
    "        for line in lines:\n",
    "            x1, y1, x2, y2 = line[0]\n",
    "            dx = x2 - x1\n",
    "            dy = y2 - y1\n",
    "            length = np.sqrt(dx**2 + dy**2)\n",
    "            dx /= length\n",
    "            dy /= length\n",
    "            x1 -= dx * extension_length\n",
    "            y1 -= dy * extension_length\n",
    "            x2 += dx * extension_length\n",
    "            y2 += dy * extension_length\n",
    "            cv2.line(img, (int(x1), int(y1)), (int(x2), int(y2)), (255, 255, 255), 2)\n",
    "    img = cv2.cvtColor(img, cv2.COLOR_RGB2GRAY)\n",
    "  \n",
    "    return img"
   ]
  },
  {
   "cell_type": "code",
   "execution_count": 8,
   "metadata": {},
   "outputs": [
    {
     "ename": "TypeError",
     "evalue": "'NoneType' object is not iterable",
     "output_type": "error",
     "traceback": [
      "\u001b[1;31m---------------------------------------------------------------------------\u001b[0m",
      "\u001b[1;31mTypeError\u001b[0m                                 Traceback (most recent call last)",
      "\u001b[1;32m<ipython-input-8-cb9583092dde>\u001b[0m in \u001b[0;36m<module>\u001b[1;34m\u001b[0m\n\u001b[0;32m     12\u001b[0m     \u001b[0mret\u001b[0m\u001b[1;33m,\u001b[0m\u001b[0mframe\u001b[0m \u001b[1;33m=\u001b[0m \u001b[0mcap\u001b[0m\u001b[1;33m.\u001b[0m\u001b[0mread\u001b[0m\u001b[1;33m(\u001b[0m\u001b[1;36m0\u001b[0m\u001b[1;33m)\u001b[0m\u001b[1;33m\u001b[0m\u001b[0m\n\u001b[0;32m     13\u001b[0m     \u001b[0mthresh\u001b[0m \u001b[1;33m=\u001b[0m \u001b[0mget_thresh\u001b[0m\u001b[1;33m(\u001b[0m\u001b[0mframe\u001b[0m\u001b[1;33m)\u001b[0m\u001b[1;33m\u001b[0m\u001b[0m\n\u001b[1;32m---> 14\u001b[1;33m     \u001b[0mhough\u001b[0m \u001b[1;33m=\u001b[0m \u001b[0mdraw_lines\u001b[0m\u001b[1;33m(\u001b[0m\u001b[0mthresh\u001b[0m\u001b[1;33m)\u001b[0m\u001b[1;33m\u001b[0m\u001b[0m\n\u001b[0m\u001b[0;32m     15\u001b[0m \u001b[1;33m\u001b[0m\u001b[0m\n\u001b[0;32m     16\u001b[0m     \u001b[0mcontours\u001b[0m\u001b[1;33m,\u001b[0m \u001b[0mhierarchy\u001b[0m \u001b[1;33m=\u001b[0m \u001b[0mcv2\u001b[0m\u001b[1;33m.\u001b[0m\u001b[0mfindContours\u001b[0m\u001b[1;33m(\u001b[0m\u001b[0mhough\u001b[0m\u001b[1;33m,\u001b[0m \u001b[0mcv2\u001b[0m\u001b[1;33m.\u001b[0m\u001b[0mRETR_TREE\u001b[0m\u001b[1;33m,\u001b[0m \u001b[0mcv2\u001b[0m\u001b[1;33m.\u001b[0m\u001b[0mCHAIN_APPROX_SIMPLE\u001b[0m\u001b[1;33m)\u001b[0m\u001b[1;33m\u001b[0m\u001b[0m\n",
      "\u001b[1;32m<ipython-input-6-04de9cb9d4e9>\u001b[0m in \u001b[0;36mdraw_lines\u001b[1;34m(img)\u001b[0m\n\u001b[0;32m     17\u001b[0m     \u001b[1;31m# Define the extension length\u001b[0m\u001b[1;33m\u001b[0m\u001b[1;33m\u001b[0m\u001b[0m\n\u001b[0;32m     18\u001b[0m     \u001b[0mextension_length\u001b[0m \u001b[1;33m=\u001b[0m \u001b[1;36m10\u001b[0m\u001b[1;33m\u001b[0m\u001b[0m\n\u001b[1;32m---> 19\u001b[1;33m     \u001b[1;32mfor\u001b[0m \u001b[0mline\u001b[0m \u001b[1;32min\u001b[0m \u001b[0mlines\u001b[0m\u001b[1;33m:\u001b[0m\u001b[1;33m\u001b[0m\u001b[0m\n\u001b[0m\u001b[0;32m     20\u001b[0m         \u001b[0mx1\u001b[0m\u001b[1;33m,\u001b[0m \u001b[0my1\u001b[0m\u001b[1;33m,\u001b[0m \u001b[0mx2\u001b[0m\u001b[1;33m,\u001b[0m \u001b[0my2\u001b[0m \u001b[1;33m=\u001b[0m \u001b[0mline\u001b[0m\u001b[1;33m[\u001b[0m\u001b[1;36m0\u001b[0m\u001b[1;33m]\u001b[0m\u001b[1;33m\u001b[0m\u001b[0m\n\u001b[0;32m     21\u001b[0m         \u001b[0mdx\u001b[0m \u001b[1;33m=\u001b[0m \u001b[0mx2\u001b[0m \u001b[1;33m-\u001b[0m \u001b[0mx1\u001b[0m\u001b[1;33m\u001b[0m\u001b[0m\n",
      "\u001b[1;31mTypeError\u001b[0m: 'NoneType' object is not iterable"
     ]
    }
   ],
   "source": [
    "cap = cv2.VideoCapture(1)\n",
    "cv2.namedWindow('Sheet Detect')\n",
    "\n",
    "buffer_size = 10\n",
    "corner_buffer = []\n",
    "counter = 0\n",
    "\n",
    "max_consecutive_misses = 10\n",
    "\n",
    "while True:\n",
    "    \n",
    "    ret,frame = cap.read(0)\n",
    "    thresh = get_thresh(frame)\n",
    "    hough = draw_lines(thresh)\n",
    "    \n",
    "    contours, hierarchy = cv2.findContours(hough, cv2.RETR_TREE, cv2.CHAIN_APPROX_SIMPLE)\n",
    "    contours = sorted(contours, key=cv2.contourArea,reverse=True)\n",
    "    \n",
    "    biggest = np.array([])\n",
    "    max_area = 5000\n",
    "    for i in contours:\n",
    "        area = cv2.contourArea(i)\n",
    "        peri = cv2.arcLength(i, True)\n",
    "        approx = cv2.approxPolyDP(i,0.02*peri,True)\n",
    "        if len(approx) == 4 and cv2.isContourConvex(approx) and area > max_area:\n",
    "            biggest = approx\n",
    "            max_area = area\n",
    "    \n",
    "\n",
    "    if len(biggest) > 0:\n",
    "        # Add the corners to the buffer\n",
    "        biggest = np.reshape(biggest, (4, 2)).squeeze()\n",
    "        corner_buffer.append(biggest)\n",
    "\n",
    "        # If the buffer is full, remove the oldest set of corners\n",
    "        if len(corner_buffer) > buffer_size:\n",
    "            corner_buffer.pop(0)\n",
    "            \n",
    "        counter = 0\n",
    "    else:\n",
    "        counter += 1\n",
    "        if counter >= max_consecutive_misses:\n",
    "            corner_buffer = []  # reset the buffer\n",
    "            counter = 0  # reset the counter\n",
    "            \n",
    "        \n",
    "    # Calculate the moving average of the corners over the buffer\n",
    "    smoothed_corners = []\n",
    "    if len(corner_buffer) > 0:\n",
    "        smoothed_corners = np.mean(corner_buffer, axis=0)\n",
    "        smoothed_corners = np.round(smoothed_corners).astype(np.int32).reshape((-1, 1, 2))\n",
    "\n",
    "        \n",
    "    #cv2.imshow('Sheet Detect', thresh)\n",
    "    cv2.imshow('Sheet Detect', draw_contour(frame, smoothed_corners))\n",
    "\n",
    "    if cv2.waitKey(1) & 0xFF == 27:\n",
    "        break\n",
    "cap.release()\n",
    "cv2.destroyAllWindows()"
   ]
  },
  {
   "cell_type": "code",
   "execution_count": null,
   "metadata": {},
   "outputs": [],
   "source": []
  },
  {
   "cell_type": "code",
   "execution_count": null,
   "metadata": {},
   "outputs": [],
   "source": []
  }
 ],
 "metadata": {
  "kernelspec": {
   "display_name": "Python 3",
   "language": "python",
   "name": "python3"
  },
  "language_info": {
   "codemirror_mode": {
    "name": "ipython",
    "version": 3
   },
   "file_extension": ".py",
   "mimetype": "text/x-python",
   "name": "python",
   "nbconvert_exporter": "python",
   "pygments_lexer": "ipython3",
   "version": "3.6.6"
  }
 },
 "nbformat": 4,
 "nbformat_minor": 2
}
